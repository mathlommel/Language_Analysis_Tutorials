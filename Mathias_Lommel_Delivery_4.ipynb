{
  "nbformat": 4,
  "nbformat_minor": 0,
  "metadata": {
    "colab": {
      "provenance": []
    },
    "kernelspec": {
      "name": "python3",
      "display_name": "Python 3"
    },
    "language_info": {
      "name": "python"
    }
  },
  "cells": [
    {
      "cell_type": "markdown",
      "source": [
        "# Delivery n°4 : Sentiment analysis\n",
        "\n",
        "*Mathematics and Big Data - Mathias Lommel*"
      ],
      "metadata": {
        "id": "K5VmFQ4wsMmT"
      }
    },
    {
      "cell_type": "markdown",
      "source": [
        "In this 4th delivery, we will try to perform a sentiment Analysis on Amazon Reviews. The final idea will be to solve some business problem for Amazon.\n",
        "\n",
        "For this purpose, I have chosen one of the 3 datasets that were proposed in the .zip file : *Datafiniti_Amazon_Consumer_Reviews_of_Amazon_Products_May19.csv* (which is obviously the biggest one, to face Big Data issues)"
      ],
      "metadata": {
        "id": "pU6Y6acPfBe4"
      }
    },
    {
      "cell_type": "markdown",
      "source": [
        "## Library importations\n",
        "\n",
        "As always, we have to import fiew libraries that will be important for our work."
      ],
      "metadata": {
        "id": "rhCGDff0suHh"
      }
    },
    {
      "cell_type": "code",
      "execution_count": 1,
      "metadata": {
        "colab": {
          "base_uri": "https://localhost:8080/"
        },
        "id": "Ffw4ncHEqWRQ",
        "outputId": "1fe84b3d-bba3-46c0-ec50-745fa4237cca"
      },
      "outputs": [
        {
          "output_type": "stream",
          "name": "stderr",
          "text": [
            "[nltk_data] Downloading package vader_lexicon to /root/nltk_data...\n",
            "[nltk_data]   Package vader_lexicon is already up-to-date!\n"
          ]
        }
      ],
      "source": [
        "import pandas as pd\n",
        "import wordcloud\n",
        "\n",
        "import nltk\n",
        "nltk.download('vader_lexicon')\n",
        "from nltk.sentiment.vader import SentimentIntensityAnalyzer\n",
        "from nltk.corpus import stopwords\n",
        "from nltk.corpus import movie_reviews\n",
        "\n",
        "import string\n",
        "import re\n",
        "\n",
        "import numpy as np"
      ]
    },
    {
      "cell_type": "markdown",
      "source": [
        "## Definition of the functions\n",
        "\n",
        "Now, let's define the functions that we will use to solve our problem."
      ],
      "metadata": {
        "id": "rXYt2FqAtRuY"
      }
    },
    {
      "cell_type": "markdown",
      "source": [
        "### Reading file\n",
        "\n",
        "Again, I made this delivery on Google Colab. Then, I have created 2 different codes that can be used to read the .csv file."
      ],
      "metadata": {
        "id": "tfGt3dYi8ACZ"
      }
    },
    {
      "cell_type": "code",
      "source": [
        "# Using google Colab\n",
        "from google.colab import drive\n",
        "drive.mount('/content/drive')\n",
        "\n",
        "def open_document_with_Drive(path):\n",
        "  \"\"\"\n",
        "  This function read a csv file from Drive.\n",
        "\n",
        "    Input :\n",
        "        path : string - path of the file\n",
        "    Output :\n",
        "       data  : pd.DataFrame - extracted data\n",
        "  \"\"\"\n",
        "  data = pd.read_csv(path)\n",
        "\n",
        "  return data"
      ],
      "metadata": {
        "colab": {
          "base_uri": "https://localhost:8080/"
        },
        "id": "UH1LKL2EtVpb",
        "outputId": "4b7f9fdb-2a0a-444e-f643-49597312f028"
      },
      "execution_count": 2,
      "outputs": [
        {
          "output_type": "stream",
          "name": "stdout",
          "text": [
            "Drive already mounted at /content/drive; to attempt to forcibly remount, call drive.mount(\"/content/drive\", force_remount=True).\n"
          ]
        }
      ]
    },
    {
      "cell_type": "code",
      "source": [
        "# If the document is stored locally on the computer\n",
        "def open_document(path):\n",
        "  \"\"\"\n",
        "  This function read a csv file stored locally.\n",
        "\n",
        "    Input :\n",
        "        path : string - path of the file\n",
        "    Output :\n",
        "        data  : pd.DataFrame - extracted data\n",
        "  \"\"\"\n",
        "  data = pd.read_csv(path)\n",
        "\n",
        "  return data"
      ],
      "metadata": {
        "id": "0-73plJCwACi"
      },
      "execution_count": 3,
      "outputs": []
    },
    {
      "cell_type": "markdown",
      "source": [
        "### Obtain the opinion of a review\n",
        "\n",
        "To determine the opinion of a review, we will use the *SentimentIntensityAnalyzer* in order to determine either a review is *positive*, *negative* or *neutral*.\n",
        "\n",
        "Here, because we want to study only positive and negative opinions, the function will give 3 possible results :     \n",
        "  - If positive score > negative score : + positive score\n",
        "  - If positive score < negative score : - negative score\n",
        "  - If positive score = negative score : 0"
      ],
      "metadata": {
        "id": "o62ahoEw8Krz"
      }
    },
    {
      "cell_type": "code",
      "source": [
        "def get_opinion(text):\n",
        "  \"\"\"\n",
        "  This function computes the opinion of a text.\n",
        "\n",
        "    Input :\n",
        "        text           : string - review of a product\n",
        "    Output :\n",
        "        0              : int - for neutral opinion\n",
        "        -output['neg'] : float - for negative opinion\n",
        "        output['pos']  : float - for positive opinion\n",
        "    \"\"\"\n",
        "  vader_analyzer = SentimentIntensityAnalyzer()\n",
        "  output = vader_analyzer.polarity_scores(text)\n",
        "\n",
        "  if output['neg']>output['pos']:\n",
        "    return -output['neg']\n",
        "  elif  output['pos']>output['neg']:\n",
        "    return output['pos']\n",
        "  return 0"
      ],
      "metadata": {
        "id": "nPNZvBTZxkX2"
      },
      "execution_count": 5,
      "outputs": []
    },
    {
      "cell_type": "markdown",
      "source": [
        "### Pre-processing\n",
        "\n",
        "As we have done in the previous deliveries, we have to pre-process our data.\n",
        "\n",
        "Here, we will write 2 functions, one to preprocess one review, and another one, that uses this first function, to preprocess the whole database."
      ],
      "metadata": {
        "id": "vp-0XqmIAQxV"
      }
    },
    {
      "cell_type": "code",
      "source": [
        "# Function that cleans the data\n",
        "def preprocess_review(review):\n",
        "  \"\"\"\n",
        "  This function preprocess a text.\n",
        "\n",
        "    Input :\n",
        "        review : string - product's review to preprocess\n",
        "    Output :\n",
        "        review : string - preprocessed review\n",
        "  \"\"\"\n",
        "  # Change to lower case\n",
        "  review = review.lower()\n",
        "\n",
        "  # Remove URLs (http and https)\n",
        "  review = re.sub(\"http?:\\/\\/.*[\\r\\n]*\", \"\", review)\n",
        "  review = re.sub(\"https?:\\/\\/.*[\\r\\n]*\", \"\", review)\n",
        "\n",
        "  # Remove emails\n",
        "  review= re.sub(r'\\b[A-Za-z0-9._-]+@[A-Za-z0-9.-]+\\.[A-Z|a-z]{2,}\\b','',review)\n",
        "\n",
        "  # Remove mentions\n",
        "  review = re.sub(\"@\\S+\", \"\", review)\n",
        "\n",
        "  # Remove punctuations, commas and special characters\n",
        "  punctuation = string.punctuation\n",
        "  translation_table = str.maketrans('', '', punctuation)\n",
        "\n",
        "  review = review.translate(translation_table)\n",
        "\n",
        "  # Remove numbers\n",
        "  review = re.sub(r'\\d+', '', review)\n",
        "\n",
        "  return review\n",
        "\n",
        "def preprocess_data(data):\n",
        "  \"\"\"\n",
        "  This function preprocess the whole database.\n",
        "\n",
        "    Input :\n",
        "        data          : pd.DataFrame - database to preprocess\n",
        "    Output :\n",
        "        cleaned_data  : pd.DataFrame - preprocessed database\n",
        "  \"\"\"\n",
        "  # We apply the preprocessing function to each review\n",
        "  cleaned_reviews = data['reviews.text'].apply(preprocess_review)\n",
        "\n",
        "  # We build a new dataframe, with preprocessed reviews\n",
        "  data_without_reviews = data.drop(columns=['reviews.text'])\n",
        "  cleaned_data = pd.concat([data_without_reviews, cleaned_reviews], axis=1)\n",
        "\n",
        "  print(\"Pre-processing successfully computed.\")\n",
        "\n",
        "  return cleaned_data\n"
      ],
      "metadata": {
        "id": "91eUs3O2zQqx"
      },
      "execution_count": 6,
      "outputs": []
    },
    {
      "cell_type": "markdown",
      "source": [
        "### Summary matrix\n",
        "\n",
        "Here, we are going to define a function that will create a \"summary matrix\".\n",
        "\n",
        "This matrix will be useful to solve the problems that we are asked to solve.\n",
        "\n",
        "It will have a number of rows equal to the number of different products in the database, and will have different columns :      \n",
        "  - **Product** : Name of the product\n",
        "  - **Brand** : Brand of the product\n",
        "  - **Category** : Main category of the product\n",
        "  - **Rate** : Mean opinion rate of its reviews\n",
        "  - **Variance** : Variance of its reviews\n",
        "  - **Score** : A score to quantify the quality of the product, taking into account its reviews*\n",
        "  - **nb_reviews** : Number of reviews for the product\n",
        "  - **nb_Positive** : Number of positive reviews\n",
        "  - **nb_Negative** : Number of negative reviews\n",
        "  - **nb_pos_threshold** : Number of positive reviews, with a rate over the threshold (parameter of the function)\n",
        "  - **nb_neg-threshold** : Number of negative reviews, with a rate over the threshold\n",
        "\n",
        "\\\\\n",
        "*The score is based on different parameters :      \n",
        "  - mean_rate : the greater it is, the best is the score\n",
        "  - The proportion of positive and negative reviews over the total amount of reviews\n",
        "  - The proportion of significative positive (resp. negative) reviews over the total number of positive (resp. negative) reviews\n",
        "  - The number of reviews"
      ],
      "metadata": {
        "id": "Dq7MF85rBkfm"
      }
    },
    {
      "cell_type": "code",
      "source": [
        "import warnings\n",
        "\n",
        "def business_problem(data,threshold):\n",
        "  \"\"\"\n",
        "  This function computes the Summary matrix.\n",
        "\n",
        "    Input :\n",
        "        data          : pd.DataFrame - database of study\n",
        "        threshold     : float - threshold for significant rates\n",
        "    Output :\n",
        "        res           : pd.DataFrame - Summary matrix\n",
        "  \"\"\"\n",
        "\n",
        "  # We build a new data frame (summary matrix)\n",
        "  res = pd.DataFrame(columns=['Product','Brand','Category','Rate','Variance','Score','nb_reviews','nb_Positive','nb_Negative','nb_pos_threshold','nb_neg_threshold'])\n",
        "\n",
        "  # We will work on each product separately\n",
        "  data_by_product = data.groupby('name')\n",
        "\n",
        "  for key in list(data_by_product.groups.keys()):\n",
        "    # We get the part of the data frame dedicated to the product being studied\n",
        "    data_product = data_by_product.get_group(key)\n",
        "\n",
        "    # We get the rates for this product\n",
        "    rates = data_product['reviews.text'].apply(get_opinion)\n",
        "\n",
        "    # Mean rate\n",
        "    mean_rate = sum(rates)/len(data_product)\n",
        "    # Variance of the rates\n",
        "    var = sum( (rates - mean_rate)**2 )/len(data_product)\n",
        "\n",
        "    # Number of positive / negative rates\n",
        "    nb_pos = sum( rates > 0 )\n",
        "    nb_neg = sum( rates < 0 )\n",
        "    # Number of significants positive / negative rates\n",
        "    nb_pos_threshold = sum( rates > threshold )\n",
        "    nb_neg_threshold = sum( rates < -threshold )\n",
        "\n",
        "    # Computation of a product's score\n",
        "    ## Positivity test of the global opinion\n",
        "    test_pos_neg = 1 if mean_rate>0 else -1\n",
        "    ## Ratio of positive/negative significant reviews\n",
        "    ratio_pos_threshold = nb_pos_threshold/nb_pos if nb_pos > 0 else 0\n",
        "    ratio_neg_threshold = nb_neg_threshold/nb_neg if nb_neg > 0 else 0\n",
        "    ## We compute the score considering that a product need at least 5 reviews to increase his score (ratios are not significant on small-sized data)\n",
        "    score = mean_rate * ( 1 + ((nb_pos - nb_neg)/len(data_product) + ratio_pos_threshold - ratio_neg_threshold)*test_pos_neg + 0.0001*len(data_product)) if len(data_product)>5 else mean_rate\n",
        "\n",
        "    # We mute FutureWarning (to avoid them to be shown when executing the function)\n",
        "    with warnings.catch_warnings():\n",
        "      warnings.simplefilter(action='ignore', category=FutureWarning)\n",
        "      # We add this product's data to the result data frame\n",
        "      new_row = {'Product':data_product.iloc[0]['name'], 'Brand' : data_product.iloc[0]['brand'], 'Category':data_product.iloc[0]['primaryCategories'], 'Rate':mean_rate, 'Variance':var, 'Score':score, 'nb_reviews':len(data_product), 'nb_Positive':nb_pos, 'nb_Negative':nb_neg, 'nb_pos_threshold':nb_pos_threshold,'nb_neg_threshold':nb_neg_threshold}\n",
        "      res = res.append(new_row, ignore_index=True)\n",
        "\n",
        "  print(\"Summary Matrix successfully computed\")\n",
        "\n",
        "  return res\n"
      ],
      "metadata": {
        "id": "1b7WDU7u2Trx"
      },
      "execution_count": 7,
      "outputs": []
    },
    {
      "cell_type": "markdown",
      "source": [
        "### Printing function\n",
        "\n",
        "Here, we define a printing function in order to show clearly the different products that we want to highlight."
      ],
      "metadata": {
        "id": "E1g93DC9JKtJ"
      }
    },
    {
      "cell_type": "code",
      "source": [
        "def print_products(products,type):\n",
        "  \"\"\"\n",
        "  This function shows selected products, with its characteristics.\n",
        "\n",
        "    Input :\n",
        "        products : pd.DataFrame - products to print\n",
        "        type     : string - Type of products\n",
        "  \"\"\"\n",
        "\n",
        "  nb_products = len(products)\n",
        "  print(\"\\n\")\n",
        "  print(type)\n",
        "  print(\"\\n\")\n",
        "  for i in range(nb_products):\n",
        "    print(i+1,\"-\",products.iloc[i]['Product'])\n",
        "    print(\"       Brand          :\",products.iloc[i]['Brand'])\n",
        "    print(\"       Category       :\",products.iloc[i]['Category'])\n",
        "    print(\"       Average Rate   :\",products.iloc[i]['Rate'])\n",
        "    print(\"       Number reviews :\",products.iloc[i]['nb_reviews'])\n",
        "    print(\"       Score          :\",products.iloc[i]['Score'])\n",
        "    print(\"\\n\")"
      ],
      "metadata": {
        "id": "45q7sbHYGjl0"
      },
      "execution_count": 8,
      "outputs": []
    },
    {
      "cell_type": "markdown",
      "source": [
        "## Application of our functions\n",
        "\n",
        "Now, we are going to apply our functions on the dataset of study, in order to try to solve Amazon's problems."
      ],
      "metadata": {
        "id": "Nb7jSzeEwnoE"
      }
    },
    {
      "cell_type": "markdown",
      "source": [
        "### Reading of the file"
      ],
      "metadata": {
        "id": "mdtLq4jMJXxq"
      }
    },
    {
      "cell_type": "code",
      "source": [
        "# Reading of the file\n",
        "path = '/content/drive/My Drive/Datafiniti_Amazon_Consumer_Reviews_of_Amazon_Products_May19.csv'\n",
        "data = open_document_with_Drive(path)"
      ],
      "metadata": {
        "id": "KjvjiWxows2L"
      },
      "execution_count": 9,
      "outputs": []
    },
    {
      "cell_type": "markdown",
      "source": [
        "### Preprocessing"
      ],
      "metadata": {
        "id": "1zaaAuSDJbl5"
      }
    },
    {
      "cell_type": "code",
      "source": [
        "cleaned_data = preprocess_data(data)"
      ],
      "metadata": {
        "colab": {
          "base_uri": "https://localhost:8080/"
        },
        "id": "yBttjxXMG25Q",
        "outputId": "06974141-7116-49f6-8c5c-eb13d91dd0c2"
      },
      "execution_count": 10,
      "outputs": [
        {
          "output_type": "stream",
          "name": "stdout",
          "text": [
            "Pre-processing successfully computed.\n"
          ]
        }
      ]
    },
    {
      "cell_type": "markdown",
      "source": [
        "### Computation of the summary Matrix"
      ],
      "metadata": {
        "id": "EX7XAEGRJe_q"
      }
    },
    {
      "cell_type": "code",
      "source": [
        "data_summary = business_problem(cleaned_data,0.4)"
      ],
      "metadata": {
        "colab": {
          "base_uri": "https://localhost:8080/"
        },
        "id": "06bP4d4pSGGQ",
        "outputId": "af8198ac-5844-4adf-f9d5-34e73df8d653"
      },
      "execution_count": 11,
      "outputs": [
        {
          "output_type": "stream",
          "name": "stdout",
          "text": [
            "Summary Matrix successfully computed\n"
          ]
        }
      ]
    },
    {
      "cell_type": "markdown",
      "source": [
        "### Problems solving\n",
        "\n",
        "Let's now answer the different questions. For each of them, we will give 5 products which seems to correspond to the ones that we want to select.\n"
      ],
      "metadata": {
        "id": "PtdLucNkJmsy"
      }
    },
    {
      "cell_type": "markdown",
      "source": [
        "**1 - Products to keep on the website**.\n",
        "\n",
        "The products that we want to keep are the ones that are frequently ordered, and that are considered as good products by customers.\n",
        "\n",
        "Then, we will here keep the products with the biggest amount of positive reviews."
      ],
      "metadata": {
        "id": "-8TlzKv0mTW5"
      }
    },
    {
      "cell_type": "code",
      "source": [
        "# Products to keep\n",
        "## We sort the matrix, with decreasing nb_Positive\n",
        "sorted_data = data_summary.sort_values(by='nb_Positive', ascending=False)\n",
        "## We keep the 5 first products of the list\n",
        "products_to_keep = sorted_data.head(5)\n",
        "## We print the result\n",
        "print_products(products_to_keep,\"Products that should be kept :\")"
      ],
      "metadata": {
        "colab": {
          "base_uri": "https://localhost:8080/"
        },
        "id": "ye1mLRWhSG24",
        "outputId": "f4d28f95-8f2c-4736-ade4-0693f0a0ddfd"
      },
      "execution_count": 12,
      "outputs": [
        {
          "output_type": "stream",
          "name": "stdout",
          "text": [
            "\n",
            "\n",
            "Products that should be kept :\n",
            "\n",
            "\n",
            "1 - AmazonBasics AAA Performance Alkaline Batteries (36 Count)\n",
            "       Brand          : Amazonbasics\n",
            "       Category       : Health & Beauty\n",
            "       Average Rate   : 0.3133037276758983\n",
            "       Number reviews : 8343\n",
            "       Score          : 0.8851516019551187\n",
            "\n",
            "\n",
            "2 - AmazonBasics AA Performance Alkaline Batteries (48 Count) - Packaging May Vary\n",
            "       Brand          : Amazonbasics\n",
            "       Category       : Health & Beauty\n",
            "       Average Rate   : 0.31934844420600794\n",
            "       Number reviews : 3728\n",
            "       Score          : 0.7586352359572055\n",
            "\n",
            "\n",
            "3 - Fire HD 8 Tablet with Alexa, 8 HD Display, 16 GB, Tangerine - with Special Offers\n",
            "       Brand          : Amazon\n",
            "       Category       : Electronics\n",
            "       Average Rate   : 0.26132746623004527\n",
            "       Number reviews : 2443\n",
            "       Score          : 0.5978631531132693\n",
            "\n",
            "\n",
            "4 - All-New Fire HD 8 Tablet, 8 HD Display, Wi-Fi, 16 GB - Includes Special Offers, Black\n",
            "       Brand          : Amazon\n",
            "       Category       : Electronics\n",
            "       Average Rate   : 0.2629801687763716\n",
            "       Number reviews : 2370\n",
            "       Score          : 0.598964563354248\n",
            "\n",
            "\n",
            "5 - Fire Kids Edition Tablet, 7 Display, Wi-Fi, 16 GB, Pink Kid-Proof Case\n",
            "       Brand          : Amazon\n",
            "       Category       : Toys & Games,Electronics\n",
            "       Average Rate   : 0.26823806682577567\n",
            "       Number reviews : 1676\n",
            "       Score          : 0.5888491393946643\n",
            "\n",
            "\n"
          ]
        }
      ]
    },
    {
      "cell_type": "markdown",
      "source": [
        "We can see here that the selection that we have seems to be quite similar to what we expected to find. In fact, those types of products, with a huge amount of reviews, having many good ones, are, for me, the best products to order, and so, to keep on the website."
      ],
      "metadata": {
        "id": "IWpAo6xFkSW8"
      }
    },
    {
      "cell_type": "markdown",
      "source": [
        "**2 - Products which should be dropped**.\n",
        "\n",
        "Here, it's the complete opposite : we want to drop the products that are not ordered frequently, and that are not well rated.\n",
        "\n",
        "By looking at bad rated products, we can see that most of them have less than 5 reviews. Then, we will consider the products to be dropped as the lowest rated ones\n"
      ],
      "metadata": {
        "id": "QqvDZHazKxJ4"
      }
    },
    {
      "cell_type": "code",
      "source": [
        "# Products to drop\n",
        "sorted_data = data_summary.sort_values(by='Rate', ascending=True)\n",
        "## We keep the 5 first products of the list\n",
        "products_to_drop = sorted_data.head(5)\n",
        "## We print the result\n",
        "print_products(products_to_drop,\"Products that should be dropped :\")"
      ],
      "metadata": {
        "colab": {
          "base_uri": "https://localhost:8080/"
        },
        "id": "1dLOXlNWS6Uj",
        "outputId": "d0a2ac5d-cde6-4d2e-dfea-e012abbefa4a"
      },
      "execution_count": 13,
      "outputs": [
        {
          "output_type": "stream",
          "name": "stdout",
          "text": [
            "\n",
            "\n",
            "Products that should be dropped :\n",
            "\n",
            "\n",
            "1 - Oem Amazon Kindle Power Usb Adapter Wall Travel Charger Fire/dx/+micro Usb Cable\n",
            "       Brand          : Amazon\n",
            "       Category       : Electronics\n",
            "       Average Rate   : -0.12449999999999999\n",
            "       Number reviews : 4\n",
            "       Score          : -0.12449999999999999\n",
            "\n",
            "\n",
            "2 - Certified Refurbished Amazon Fire TV with Alexa Voice Remote\n",
            "       Brand          : Amazon\n",
            "       Category       : Electronics\n",
            "       Average Rate   : -0.06939999999999999\n",
            "       Number reviews : 5\n",
            "       Score          : -0.06939999999999999\n",
            "\n",
            "\n",
            "3 - Amazon Kindle Replacement Power Adapter (Fits Latest Generation Kindle and Kindle DX) For shipment in the U.S only\n",
            "       Brand          : Amazon\n",
            "       Category       : Electronics\n",
            "       Average Rate   : -0.0038000000000000035\n",
            "       Number reviews : 5\n",
            "       Score          : -0.0038000000000000035\n",
            "\n",
            "\n",
            "4 - AmazonBasics Silicone Hot Handle Cover/Holder - Red\n",
            "       Brand          : Amazonbasics\n",
            "       Category       : Home & Garden\n",
            "       Average Rate   : 0.0\n",
            "       Number reviews : 1\n",
            "       Score          : 0.0\n",
            "\n",
            "\n",
            "5 - AmazonBasics Nylon CD/DVD Binder (400 Capacity)\n",
            "       Brand          : Amazonbasics\n",
            "       Category       : Electronics\n",
            "       Average Rate   : 0.054\n",
            "       Number reviews : 4\n",
            "       Score          : 0.054\n",
            "\n",
            "\n"
          ]
        }
      ]
    },
    {
      "cell_type": "markdown",
      "source": [
        "As in the first case, here we have products that are not really interesting : with just a fiew reviews, which are not really good."
      ],
      "metadata": {
        "id": "AEgu5w32kk68"
      }
    },
    {
      "cell_type": "markdown",
      "source": [
        "**3 - Products that are junk**\n",
        "\n",
        "Here, we will consider the number of negative reviews, with a rate over the threshold 0.4 as a good indicator for junk products."
      ],
      "metadata": {
        "id": "lzuHUIPzM7Im"
      }
    },
    {
      "cell_type": "code",
      "source": [
        "# Junk Products\n",
        "sorted_data = data_summary.sort_values(by='nb_neg_threshold', ascending=True)\n",
        "## We keep the 5 first products of the list\n",
        "junk_products = sorted_data.head(5)\n",
        "## We print the result\n",
        "print_products(junk_products,\"Products that are junk :\")"
      ],
      "metadata": {
        "colab": {
          "base_uri": "https://localhost:8080/"
        },
        "id": "1nGw_hoF253r",
        "outputId": "66855255-7b7f-4861-8c18-963c72f46abb"
      },
      "execution_count": 18,
      "outputs": [
        {
          "output_type": "stream",
          "name": "stdout",
          "text": [
            "\n",
            "\n",
            "Products that are junk :\n",
            "\n",
            "\n",
            "1 - All-New Fire 7 Tablet with Alexa, 7\" Display, 8 GB - Marine Blue\n",
            "       Brand          : Amazon\n",
            "       Category       : Electronics\n",
            "       Average Rate   : 0.27275609756097563\n",
            "       Number reviews : 82\n",
            "       Score          : 0.578824581713429\n",
            "\n",
            "\n",
            "2 - Oem Amazon Kindle Power Usb Adapter Wall Travel Charger Fire/dx/+micro Usb Cable\n",
            "       Brand          : Amazon\n",
            "       Category       : Electronics\n",
            "       Average Rate   : -0.12449999999999999\n",
            "       Number reviews : 4\n",
            "       Score          : -0.12449999999999999\n",
            "\n",
            "\n",
            "3 - AmazonBasics External Hard Drive Case\n",
            "       Brand          : Amazonbasics\n",
            "       Category       : Electronics\n",
            "       Average Rate   : 0.218\n",
            "       Number reviews : 6\n",
            "       Score          : 0.39979746666666666\n",
            "\n",
            "\n",
            "4 - AmazonBasics Nespresso Pod Storage Drawer - 50 Capsule Capacity\n",
            "       Brand          : AmazonBasics\n",
            "       Category       : Home & Garden\n",
            "       Average Rate   : 0.271\n",
            "       Number reviews : 1\n",
            "       Score          : 0.271\n",
            "\n",
            "\n",
            "5 - AmazonBasics Nylon CD/DVD Binder (400 Capacity)\n",
            "       Brand          : Amazonbasics\n",
            "       Category       : Electronics\n",
            "       Average Rate   : 0.054\n",
            "       Number reviews : 4\n",
            "       Score          : 0.054\n",
            "\n",
            "\n"
          ]
        }
      ]
    },
    {
      "cell_type": "markdown",
      "source": [
        "I think that here, the parameter taken into account can be discussed since the first product seems to not be that bad..."
      ],
      "metadata": {
        "id": "qYle0ACok2GW"
      }
    },
    {
      "cell_type": "markdown",
      "source": [
        "**4 - Products recommended**\n",
        "\n",
        "We will consider a special time period : because trends are moving fast, to recommend a product, we have to take into account the written dates.\n",
        "\n",
        "Here, our database stops on 24-11-2018. So we will imagine that we want to recommend a product for december 2018. To this purpose, we take into account the reviews written during the year preceding this recommendation date (from 24-11-2017 to 24-11-2018).\n",
        "\n",
        "Then, we will use the score created before to determine the best actual products."
      ],
      "metadata": {
        "id": "PfaNASH6NbFj"
      }
    },
    {
      "cell_type": "code",
      "source": [
        "# Recommended products\n",
        "## We build a new dataset, composed of the most recent reviews\n",
        "actual_data = cleaned_data.copy()\n",
        "actual_data['Date'] = pd.to_datetime(actual_data['dateAdded'])\n",
        "actual_data = actual_data[((actual_data['Date'].dt.day >= 24) & (actual_data['Date'].dt.month >= 11) & (actual_data['Date'].dt.year ==2017)) | ((actual_data['Date'].dt.month <= 12) & (actual_data['Date'].dt.year ==2018))]\n",
        "## We compute a new summary matrix\n",
        "actual_summary = business_problem(actual_data,0.4)\n",
        "\n",
        "## We get the products with the best score\n",
        "sorted_data = actual_summary.sort_values(by='Score', ascending=False)\n",
        "## We keep the 5 first products of the list\n",
        "recommended_products = sorted_data.head(5)\n",
        "## We print the result\n",
        "print_products(recommended_products,\"Products to recommend :\")"
      ],
      "metadata": {
        "colab": {
          "base_uri": "https://localhost:8080/"
        },
        "id": "XehiW_fOX7qN",
        "outputId": "c042bfd2-2155-4074-bb18-1dae01d385b4"
      },
      "execution_count": 19,
      "outputs": [
        {
          "output_type": "stream",
          "name": "stdout",
          "text": [
            "Summary Matrix successfully computed\n",
            "\n",
            "\n",
            "Most recommended products :\n",
            "\n",
            "\n",
            "1 - All-New Kindle Oasis E-reader - 7 High-Resolution Display (300 ppi), Waterproof, Built-In Audible, 32 GB, Wi-Fi - Includes Special Offers\n",
            "       Brand          : Amazon\n",
            "       Category       : Electronics,Media\n",
            "       Average Rate   : 0.30214285714285716\n",
            "       Number reviews : 7\n",
            "       Score          : 0.6044972142857143\n",
            "\n",
            "\n",
            "2 - Cat Litter Box Covered Tray Kitten Extra Large Enclosed Hooded Hidden Toilet\n",
            "       Brand          : Amazonbasics\n",
            "       Category       : Animals & Pet Supplies\n",
            "       Average Rate   : 0.5820000000000001\n",
            "       Number reviews : 2\n",
            "       Score          : 0.5820000000000001\n",
            "\n",
            "\n",
            "3 - Certified Refurbished Amazon Echo\n",
            "       Brand          : Amazon\n",
            "       Category       : Electronics\n",
            "       Average Rate   : 0.223\n",
            "       Number reviews : 7\n",
            "       Score          : 0.41960848095238096\n",
            "\n",
            "\n",
            "4 - Fire TV Stick Streaming Media Player Pair Kit\n",
            "       Brand          : Amazon\n",
            "       Category       : Electronics\n",
            "       Average Rate   : 0.2215\n",
            "       Number reviews : 6\n",
            "       Score          : 0.41359956666666664\n",
            "\n",
            "\n",
            "5 - All-new Echo (2nd Generation) with improved sound, powered by Dolby, and a new design Walnut Finish\n",
            "       Brand          : Amazon\n",
            "       Category       : Electronics,Furniture\n",
            "       Average Rate   : 0.365\n",
            "       Number reviews : 2\n",
            "       Score          : 0.365\n",
            "\n",
            "\n"
          ]
        }
      ]
    },
    {
      "cell_type": "markdown",
      "source": [
        "**5 - Best products**\n",
        "\n",
        "Best products are the ones with the best score."
      ],
      "metadata": {
        "id": "vAtyO-dpS1gV"
      }
    },
    {
      "cell_type": "code",
      "source": [
        "# Best products\n",
        "sorted_data = data_summary.sort_values(by='Score', ascending=False)\n",
        "## We keep the 5 first products of the list\n",
        "best_products = sorted_data.head(5)\n",
        "## We print the result\n",
        "print_products(best_products,\"Best products :\")"
      ],
      "metadata": {
        "colab": {
          "base_uri": "https://localhost:8080/"
        },
        "id": "zsy8qKVsTUW7",
        "outputId": "7e98103b-1f8e-44a9-8f7a-6415955572cb"
      },
      "execution_count": 20,
      "outputs": [
        {
          "output_type": "stream",
          "name": "stdout",
          "text": [
            "\n",
            "\n",
            "Best products :\n",
            "\n",
            "\n",
            "1 - AmazonBasics AAA Performance Alkaline Batteries (36 Count)\n",
            "       Brand          : Amazonbasics\n",
            "       Category       : Health & Beauty\n",
            "       Average Rate   : 0.3133037276758983\n",
            "       Number reviews : 8343\n",
            "       Score          : 0.8851516019551187\n",
            "\n",
            "\n",
            "2 - Expanding Accordion File Folder Plastic Portable Document Organizer Letter Size\n",
            "       Brand          : Amazonbasics\n",
            "       Category       : Office Supplies\n",
            "       Average Rate   : 0.3323333333333333\n",
            "       Number reviews : 9\n",
            "       Score          : 0.8311324333333333\n",
            "\n",
            "\n",
            "3 - AmazonBasics AA Performance Alkaline Batteries (48 Count) - Packaging May Vary\n",
            "       Brand          : Amazonbasics\n",
            "       Category       : Health & Beauty\n",
            "       Average Rate   : 0.31934844420600794\n",
            "       Number reviews : 3728\n",
            "       Score          : 0.7586352359572055\n",
            "\n",
            "\n",
            "4 - All-New Fire HD 8 Tablet, 8 HD Display, Wi-Fi, 16 GB - Includes Special Offers, Blue\n",
            "       Brand          : Amazon\n",
            "       Category       : Electronics\n",
            "       Average Rate   : 0.2992238805970148\n",
            "       Number reviews : 67\n",
            "       Score          : 0.6546829020271773\n",
            "\n",
            "\n",
            "5 - Amazon Fire HD 8 with Alexa (8\" HD Display Tablet)\n",
            "       Brand          : Amazon\n",
            "       Category       : Electronics\n",
            "       Average Rate   : 0.2879307692307694\n",
            "       Number reviews : 130\n",
            "       Score          : 0.6255628189349115\n",
            "\n",
            "\n"
          ]
        }
      ]
    },
    {
      "cell_type": "markdown",
      "source": [
        "It's sure that the way the score has been created can be discussed, but we can see on that example that the created score mixes quite well different aspects : number of reviews, average rate, number of positive/negative reviews,..."
      ],
      "metadata": {
        "id": "mAcc5wAVlefS"
      }
    },
    {
      "cell_type": "markdown",
      "source": [
        "**6 - Products for coming winter**\n",
        "\n",
        "Another time, we have to study a particular range of time. Let's focus on the winter period, and chose the best products.\n",
        "\n",
        "As we have done to recommend products, now we only consider winter reviews (written from december to february)."
      ],
      "metadata": {
        "id": "2g_3FZT7Ts9T"
      }
    },
    {
      "cell_type": "code",
      "source": [
        "# Best products for coming winter\n",
        "## New database, for winter reviews\n",
        "winter_data = cleaned_data.copy()\n",
        "winter_data['Date'] = pd.to_datetime(winter_data['dateAdded'])\n",
        "winter_data = winter_data[(winter_data['Date'].dt.month >= 12) | (winter_data['Date'].dt.month <= 2)]\n",
        "## New summary matrix\n",
        "winter_summary = business_problem(winter_data,0.4)\n",
        "\n",
        "sorted_data = winter_summary.sort_values(by='Score', ascending=False)\n",
        "## We keep the 5 first products of the list\n",
        "winter_products = sorted_data.head(5)\n",
        "## We print the result\n",
        "print_products(winter_products,\"Products for coming winter :\")"
      ],
      "metadata": {
        "colab": {
          "base_uri": "https://localhost:8080/"
        },
        "id": "NNSu2EH6VVLh",
        "outputId": "3ed1102f-e982-48a5-8d40-314a9276d6b7"
      },
      "execution_count": 21,
      "outputs": [
        {
          "output_type": "stream",
          "name": "stdout",
          "text": [
            "Summary Matrix successfully computed\n",
            "\n",
            "\n",
            "Products for coming winter :\n",
            "\n",
            "\n",
            "1 - AmazonBasics AA Performance Alkaline Batteries (48 Count) - Packaging May Vary\n",
            "       Brand          : Amazonbasics\n",
            "       Category       : Health & Beauty\n",
            "       Average Rate   : 0.31934844420600794\n",
            "       Number reviews : 3728\n",
            "       Score          : 0.7586352359572055\n",
            "\n",
            "\n",
            "2 - Fire Kids Edition Tablet, 7 Display, Wi-Fi, 16 GB, Blue Kid-Proof Case\n",
            "       Brand          : Amazon\n",
            "       Category       : Electronics\n",
            "       Average Rate   : 0.26950385964912266\n",
            "       Number reviews : 1425\n",
            "       Score          : 0.5912374050298681\n",
            "\n",
            "\n",
            "3 - Fire Kids Edition Tablet, 7 Display, Wi-Fi, 16 GB, Pink Kid-Proof Case\n",
            "       Brand          : Amazon\n",
            "       Category       : Toys & Games,Electronics\n",
            "       Average Rate   : 0.26823806682577567\n",
            "       Number reviews : 1676\n",
            "       Score          : 0.5888491393946643\n",
            "\n",
            "\n",
            "4 - Amazon Tap Smart Assistant Alexaenabled (black) Brand New\n",
            "       Brand          : Amazon\n",
            "       Category       : Electronics\n",
            "       Average Rate   : 0.26751913477537453\n",
            "       Number reviews : 601\n",
            "       Score          : 0.5821798764767441\n",
            "\n",
            "\n",
            "5 - Kindle Voyage E-reader, 6 High-Resolution Display (300 ppi) with Adaptive Built-in Light, PagePress Sensors, Free 3G + Wi-Fi - Includes Special Offers\n",
            "       Brand          : Amazon\n",
            "       Category       : Electronics,Media\n",
            "       Average Rate   : 0.2678333333333334\n",
            "       Number reviews : 36\n",
            "       Score          : 0.5636847387205389\n",
            "\n",
            "\n"
          ]
        }
      ]
    },
    {
      "cell_type": "markdown",
      "source": [
        "**7 - Products that require advertisement**\n",
        "\n",
        "The products that require advertisement are the one that are not ordered frequently. Then, we have to find the products with the lowest number of reviews (here 1), and then select the ones that have the best score."
      ],
      "metadata": {
        "id": "S6zgJL8fWkm5"
      }
    },
    {
      "cell_type": "code",
      "source": [
        "# Require advertisement\n",
        "products_with_1_review = data_summary[data_summary['nb_reviews'] == 1]\n",
        "sorted_data = products_with_1_review.sort_values(by='Score',ascending=False)\n",
        "## We keep the 5 first products of the list\n",
        "require_advertisement = sorted_data.head(5)\n",
        "## We print the result\n",
        "print_products(require_advertisement,\"Products that require advertisment :\")"
      ],
      "metadata": {
        "colab": {
          "base_uri": "https://localhost:8080/"
        },
        "id": "KkN30vNlYBu7",
        "outputId": "4f8fb554-c36b-4c06-ea17-6d2ab78a138d"
      },
      "execution_count": 23,
      "outputs": [
        {
          "output_type": "stream",
          "name": "stdout",
          "text": [
            "\n",
            "\n",
            "Products that require advertisment :\n",
            "\n",
            "\n",
            "1 - Two Door Top Load Pet Kennel Travel Crate Dog Cat Pet Cage Carrier Box Tray 23\"\n",
            "       Brand          : Amazonbasics\n",
            "       Category       : Animals & Pet Supplies\n",
            "       Average Rate   : 0.412\n",
            "       Number reviews : 1\n",
            "       Score          : 0.412\n",
            "\n",
            "\n",
            "2 - AmazonBasics Single-Door Folding Metal Dog Crate - Large (42x28x30 Inches)\n",
            "       Brand          : AmazonBasics\n",
            "       Category       : Animals & Pet Supplies\n",
            "       Average Rate   : 0.369\n",
            "       Number reviews : 1\n",
            "       Score          : 0.369\n",
            "\n",
            "\n",
            "3 - AmazonBasics Nespresso Pod Storage Drawer - 50 Capsule Capacity\n",
            "       Brand          : AmazonBasics\n",
            "       Category       : Home & Garden\n",
            "       Average Rate   : 0.271\n",
            "       Number reviews : 1\n",
            "       Score          : 0.271\n",
            "\n",
            "\n",
            "4 - Echo Dot (Previous generation)\n",
            "       Brand          : Amazon\n",
            "       Category       : Electronics\n",
            "       Average Rate   : 0.135\n",
            "       Number reviews : 1\n",
            "       Score          : 0.135\n",
            "\n",
            "\n",
            "5 - Amazon Echo Show - Black\n",
            "       Brand          : Amazon\n",
            "       Category       : Electronics\n",
            "       Average Rate   : 0.133\n",
            "       Number reviews : 1\n",
            "       Score          : 0.133\n",
            "\n",
            "\n"
          ]
        }
      ]
    },
    {
      "cell_type": "markdown",
      "source": [
        "**8 - How many quintuples have positive sentiment**"
      ],
      "metadata": {
        "id": "HBDIZ6EPXL8S"
      }
    },
    {
      "cell_type": "code",
      "source": [
        "# We summup the number of positive reviews for each product\n",
        "positives = sum(data_summary['nb_Positive'])\n",
        "print(\"Number of quintuples with positive sentiment : \", positives, \"over\", len(cleaned_data), \"reviews.\")"
      ],
      "metadata": {
        "colab": {
          "base_uri": "https://localhost:8080/"
        },
        "id": "83lRRqImXRkf",
        "outputId": "4d2ca329-3305-4c6d-8202-de511b12709e"
      },
      "execution_count": 24,
      "outputs": [
        {
          "output_type": "stream",
          "name": "stdout",
          "text": [
            "Number of quintuples with positive sentiment :  23747 over 28332 reviews.\n"
          ]
        }
      ]
    },
    {
      "cell_type": "markdown",
      "source": [
        "## Conclusion\n",
        "\n",
        "During this 4th delivery, we have used the theoritical notions learnt in class to answer business problems. Re-using the first function that I created for the first delivery, and writing new ones, I had to make some choices on the way to answer the different questions.\n",
        "\n",
        "Then, for me, this delivery was quite diferent from the others since it was well more based on autonomous reflections and personnal understanding of the questions. For sure, because I made choices, and because I interpreted questions in my own way, the answers that I gave can be discussed."
      ],
      "metadata": {
        "id": "JBiidoCyoS0J"
      }
    }
  ]
}